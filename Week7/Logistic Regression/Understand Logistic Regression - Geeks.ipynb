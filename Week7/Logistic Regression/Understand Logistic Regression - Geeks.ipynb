{
 "cells": [
  {
   "cell_type": "markdown",
   "metadata": {},
   "source": [
    "Link bài viết gốc trên `GeeksforGeeks`:\n",
    "\n",
    "https://www.geeksforgeeks.org/understanding-logistic-regression/"
   ]
  },
  {
   "cell_type": "code",
   "execution_count": 1,
   "metadata": {},
   "outputs": [],
   "source": [
    "import csv\n",
    "import numpy as np\n",
    "import matplotlib.pyplot as plt"
   ]
  },
  {
   "cell_type": "code",
   "execution_count": 2,
   "metadata": {},
   "outputs": [],
   "source": [
    "#Load dataset function\n",
    "def loadCSV(filename):\n",
    "    with open(filename, \"r\") as csvfile:\n",
    "        lines = csv.reader(csvfile)\n",
    "        dataset = list(lines)\n",
    "        \n",
    "        for i in range(len(dataset)):\n",
    "            dataset[i] =[float(x) for x in dataset[i]]\n",
    "            \n",
    "    return np.array(dataset)"
   ]
  },
  {
   "cell_type": "code",
   "execution_count": 3,
   "metadata": {},
   "outputs": [],
   "source": [
    "#function to normalize feature matrix, X\n",
    "def normalize(X):\n",
    "    mins = np.min(X)\n",
    "    maxs = np.max(X)\n",
    "    rng = maxs - mins\n",
    "    norm_X = 1 - ((maxs - X)/rng)\n",
    "    \n",
    "    return norm_X"
   ]
  },
  {
   "cell_type": "markdown",
   "metadata": {},
   "source": [
    "**Logistic(Sigmoid) Function**\n",
    "\n",
    "$$ h(x_i) = g(\\beta^Tx_i) = \\frac{1}{1 + e^{-\\beta^Tx_i}}$$"
   ]
  },
  {
   "cell_type": "code",
   "execution_count": 4,
   "metadata": {},
   "outputs": [],
   "source": [
    "#logistic(sigmoid) function\n",
    "def logistic_func(beta, X):\n",
    "    return 1. / (1. + np.exp(-np.dot(X, bata.T)))"
   ]
  },
  {
   "cell_type": "markdown",
   "metadata": {},
   "source": [
    "**Logistic Gradient**\n",
    "\n",
    "$$ LG = h(x^{(i)}) - y^{(i)}$$"
   ]
  },
  {
   "cell_type": "code",
   "execution_count": 5,
   "metadata": {},
   "outputs": [],
   "source": [
    "#logistic gradient function\n",
    "def log_gradient(beta, X, y):\n",
    "    first_calc = logistic_func(beta, X) - y.reshape(X.shape[0], -1)\n",
    "    final_calc = np.dot(first_calc.T, X)\n",
    "    \n",
    "    return final_calc"
   ]
  },
  {
   "cell_type": "markdown",
   "metadata": {},
   "source": [
    "**Cost function**\n",
    "\n",
    "$$ J(\\beta) = -\\frac{1}{m}\\sum^{m}_{i=1}[y_ilog(h(x_i)) + (1 - y_i)log(1 - h(x_i))] $$ "
   ]
  },
  {
   "cell_type": "code",
   "execution_count": 6,
   "metadata": {},
   "outputs": [],
   "source": [
    "#cost function\n",
    "def cost_func(beta, X, y):\n",
    "    log_func_v = logistic_func(beta, X)\n",
    "    y = np.squeeze(y)\n",
    "    \n",
    "    step1 = y*np.log(log_func_v)\n",
    "    step2 = (1 - y)*np.log(1 - log_func_v)\n",
    "    \n",
    "    final = -(step1 + step2)\n",
    "    \n",
    "    return np.mean(final)"
   ]
  },
  {
   "cell_type": "markdown",
   "metadata": {},
   "source": [
    "**Gradient Descent function**\n",
    "\n",
    "$$ \\frac{\\partial J(\\beta)}{\\partial \\beta_j} = (h(x) - y)x_j$$\n",
    "\n",
    "Repeat{\n",
    "\n",
    "$$ \\beta_j := \\beta_j - \\alpha\\sum^n_{i=1}(h(x_i)-y_i)x_ij$$\n",
    "(Simultaneously update all $\\beta_j$)\n",
    "\n",
    "}"
   ]
  },
  {
   "cell_type": "code",
   "execution_count": 7,
   "metadata": {},
   "outputs": [],
   "source": [
    "def grad_desc(X, y, beta, lr = .01, converge_change=.001):\n",
    "    cost = cost_func(beta, X, y)\n",
    "    change_cost = 1\n",
    "    num_iter = 1\n",
    "    \n",
    "    while(change_cost > converge_change):\n",
    "        old_cost = cost\n",
    "        beta = beta - (lr*log_gradient(beta, X, y))\n",
    "        cost = cost_func(beta, X, y)\n",
    "        change_cost = old_cost - cost\n",
    "        num_iter += 1\n",
    "        \n",
    "    return beta, num_iter"
   ]
  },
  {
   "cell_type": "code",
   "execution_count": null,
   "metadata": {},
   "outputs": [],
   "source": []
  }
 ],
 "metadata": {
  "kernelspec": {
   "display_name": "Python 3",
   "language": "python",
   "name": "python3"
  },
  "language_info": {
   "codemirror_mode": {
    "name": "ipython",
    "version": 3
   },
   "file_extension": ".py",
   "mimetype": "text/x-python",
   "name": "python",
   "nbconvert_exporter": "python",
   "pygments_lexer": "ipython3",
   "version": "3.7.3"
  }
 },
 "nbformat": 4,
 "nbformat_minor": 2
}
