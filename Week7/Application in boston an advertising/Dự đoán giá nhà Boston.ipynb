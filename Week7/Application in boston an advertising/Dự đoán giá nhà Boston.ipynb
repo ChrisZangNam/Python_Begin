{
 "cells": [
  {
   "cell_type": "markdown",
   "metadata": {},
   "source": [
    "# Bài toán dự đoán giá nhà Boston"
   ]
  },
  {
   "cell_type": "code",
   "execution_count": 1,
   "metadata": {},
   "outputs": [],
   "source": [
    "import numpy as np\n",
    "import pandas as pd\n",
    "import matplotlib.pyplot as plt\n",
    "\n",
    "data = pd.read_csv('data/Boston_Dataset.csv')"
   ]
  },
  {
   "cell_type": "code",
   "execution_count": 2,
   "metadata": {},
   "outputs": [],
   "source": [
    "def normal(x:list):\n",
    "    maxi = max(x)\n",
    "    mini = min(x)\n",
    "    avg = np.mean(x)\n",
    "    new = [(i-avg)/(maxi - mini) for i in x]\n",
    "    \n",
    "    return new"
   ]
  },
  {
   "cell_type": "code",
   "execution_count": 3,
   "metadata": {},
   "outputs": [
    {
     "data": {
      "text/html": [
       "<div>\n",
       "<style scoped>\n",
       "    .dataframe tbody tr th:only-of-type {\n",
       "        vertical-align: middle;\n",
       "    }\n",
       "\n",
       "    .dataframe tbody tr th {\n",
       "        vertical-align: top;\n",
       "    }\n",
       "\n",
       "    .dataframe thead th {\n",
       "        text-align: right;\n",
       "    }\n",
       "</style>\n",
       "<table border=\"1\" class=\"dataframe\">\n",
       "  <thead>\n",
       "    <tr style=\"text-align: right;\">\n",
       "      <th></th>\n",
       "      <th>ID</th>\n",
       "      <th>crim</th>\n",
       "      <th>zn</th>\n",
       "      <th>indus</th>\n",
       "      <th>chas</th>\n",
       "      <th>nox</th>\n",
       "      <th>rm</th>\n",
       "      <th>age</th>\n",
       "      <th>dis</th>\n",
       "      <th>rad</th>\n",
       "      <th>tax</th>\n",
       "      <th>ptratio</th>\n",
       "      <th>black</th>\n",
       "      <th>lstat</th>\n",
       "      <th>medv</th>\n",
       "    </tr>\n",
       "  </thead>\n",
       "  <tbody>\n",
       "    <tr>\n",
       "      <th>0</th>\n",
       "      <td>1</td>\n",
       "      <td>0.00632</td>\n",
       "      <td>18.0</td>\n",
       "      <td>2.31</td>\n",
       "      <td>0</td>\n",
       "      <td>0.538</td>\n",
       "      <td>6.575</td>\n",
       "      <td>65.2</td>\n",
       "      <td>4.0900</td>\n",
       "      <td>1</td>\n",
       "      <td>296</td>\n",
       "      <td>15.3</td>\n",
       "      <td>396.90</td>\n",
       "      <td>4.98</td>\n",
       "      <td>24.0</td>\n",
       "    </tr>\n",
       "    <tr>\n",
       "      <th>1</th>\n",
       "      <td>2</td>\n",
       "      <td>0.02731</td>\n",
       "      <td>0.0</td>\n",
       "      <td>7.07</td>\n",
       "      <td>0</td>\n",
       "      <td>0.469</td>\n",
       "      <td>6.421</td>\n",
       "      <td>78.9</td>\n",
       "      <td>4.9671</td>\n",
       "      <td>2</td>\n",
       "      <td>242</td>\n",
       "      <td>17.8</td>\n",
       "      <td>396.90</td>\n",
       "      <td>9.14</td>\n",
       "      <td>21.6</td>\n",
       "    </tr>\n",
       "    <tr>\n",
       "      <th>2</th>\n",
       "      <td>4</td>\n",
       "      <td>0.03237</td>\n",
       "      <td>0.0</td>\n",
       "      <td>2.18</td>\n",
       "      <td>0</td>\n",
       "      <td>0.458</td>\n",
       "      <td>6.998</td>\n",
       "      <td>45.8</td>\n",
       "      <td>6.0622</td>\n",
       "      <td>3</td>\n",
       "      <td>222</td>\n",
       "      <td>18.7</td>\n",
       "      <td>394.63</td>\n",
       "      <td>2.94</td>\n",
       "      <td>33.4</td>\n",
       "    </tr>\n",
       "    <tr>\n",
       "      <th>3</th>\n",
       "      <td>5</td>\n",
       "      <td>0.06905</td>\n",
       "      <td>0.0</td>\n",
       "      <td>2.18</td>\n",
       "      <td>0</td>\n",
       "      <td>0.458</td>\n",
       "      <td>7.147</td>\n",
       "      <td>54.2</td>\n",
       "      <td>6.0622</td>\n",
       "      <td>3</td>\n",
       "      <td>222</td>\n",
       "      <td>18.7</td>\n",
       "      <td>396.90</td>\n",
       "      <td>5.33</td>\n",
       "      <td>36.2</td>\n",
       "    </tr>\n",
       "    <tr>\n",
       "      <th>4</th>\n",
       "      <td>7</td>\n",
       "      <td>0.08829</td>\n",
       "      <td>12.5</td>\n",
       "      <td>7.87</td>\n",
       "      <td>0</td>\n",
       "      <td>0.524</td>\n",
       "      <td>6.012</td>\n",
       "      <td>66.6</td>\n",
       "      <td>5.5605</td>\n",
       "      <td>5</td>\n",
       "      <td>311</td>\n",
       "      <td>15.2</td>\n",
       "      <td>395.60</td>\n",
       "      <td>12.43</td>\n",
       "      <td>22.9</td>\n",
       "    </tr>\n",
       "  </tbody>\n",
       "</table>\n",
       "</div>"
      ],
      "text/plain": [
       "   ID     crim    zn  indus  chas    nox     rm   age     dis  rad  tax  \\\n",
       "0   1  0.00632  18.0   2.31     0  0.538  6.575  65.2  4.0900    1  296   \n",
       "1   2  0.02731   0.0   7.07     0  0.469  6.421  78.9  4.9671    2  242   \n",
       "2   4  0.03237   0.0   2.18     0  0.458  6.998  45.8  6.0622    3  222   \n",
       "3   5  0.06905   0.0   2.18     0  0.458  7.147  54.2  6.0622    3  222   \n",
       "4   7  0.08829  12.5   7.87     0  0.524  6.012  66.6  5.5605    5  311   \n",
       "\n",
       "   ptratio   black  lstat  medv  \n",
       "0     15.3  396.90   4.98  24.0  \n",
       "1     17.8  396.90   9.14  21.6  \n",
       "2     18.7  394.63   2.94  33.4  \n",
       "3     18.7  396.90   5.33  36.2  \n",
       "4     15.2  395.60  12.43  22.9  "
      ]
     },
     "execution_count": 3,
     "metadata": {},
     "output_type": "execute_result"
    }
   ],
   "source": [
    "df = data.copy()\n",
    "df[:5]"
   ]
  },
  {
   "cell_type": "code",
   "execution_count": 4,
   "metadata": {},
   "outputs": [
    {
     "data": {
      "text/html": [
       "<div>\n",
       "<style scoped>\n",
       "    .dataframe tbody tr th:only-of-type {\n",
       "        vertical-align: middle;\n",
       "    }\n",
       "\n",
       "    .dataframe tbody tr th {\n",
       "        vertical-align: top;\n",
       "    }\n",
       "\n",
       "    .dataframe thead th {\n",
       "        text-align: right;\n",
       "    }\n",
       "</style>\n",
       "<table border=\"1\" class=\"dataframe\">\n",
       "  <thead>\n",
       "    <tr style=\"text-align: right;\">\n",
       "      <th></th>\n",
       "      <th>ID</th>\n",
       "      <th>crim</th>\n",
       "      <th>zn</th>\n",
       "      <th>indus</th>\n",
       "      <th>chas</th>\n",
       "      <th>nox</th>\n",
       "      <th>rm</th>\n",
       "      <th>age</th>\n",
       "      <th>dis</th>\n",
       "      <th>rad</th>\n",
       "      <th>tax</th>\n",
       "      <th>ptratio</th>\n",
       "      <th>black</th>\n",
       "      <th>lstat</th>\n",
       "      <th>medv</th>\n",
       "    </tr>\n",
       "  </thead>\n",
       "  <tbody>\n",
       "    <tr>\n",
       "      <th>0</th>\n",
       "      <td>-0.494954</td>\n",
       "      <td>-0.045616</td>\n",
       "      <td>0.073108</td>\n",
       "      <td>-0.332722</td>\n",
       "      <td>-0.06006</td>\n",
       "      <td>-0.039391</td>\n",
       "      <td>0.059911</td>\n",
       "      <td>-0.032196</td>\n",
       "      <td>0.039670</td>\n",
       "      <td>-0.375375</td>\n",
       "      <td>-0.216595</td>\n",
       "      <td>-0.366052</td>\n",
       "      <td>0.095155</td>\n",
       "      <td>-0.207931</td>\n",
       "      <td>0.027361</td>\n",
       "    </tr>\n",
       "    <tr>\n",
       "      <th>1</th>\n",
       "      <td>-0.492974</td>\n",
       "      <td>-0.045330</td>\n",
       "      <td>-0.106892</td>\n",
       "      <td>-0.156425</td>\n",
       "      <td>-0.06006</td>\n",
       "      <td>-0.181367</td>\n",
       "      <td>0.030089</td>\n",
       "      <td>0.113549</td>\n",
       "      <td>0.131219</td>\n",
       "      <td>-0.331897</td>\n",
       "      <td>-0.319846</td>\n",
       "      <td>-0.075354</td>\n",
       "      <td>0.095155</td>\n",
       "      <td>-0.093141</td>\n",
       "      <td>-0.025973</td>\n",
       "    </tr>\n",
       "    <tr>\n",
       "      <th>2</th>\n",
       "      <td>-0.489014</td>\n",
       "      <td>-0.045261</td>\n",
       "      <td>-0.106892</td>\n",
       "      <td>-0.337536</td>\n",
       "      <td>-0.06006</td>\n",
       "      <td>-0.204000</td>\n",
       "      <td>0.141824</td>\n",
       "      <td>-0.238579</td>\n",
       "      <td>0.245521</td>\n",
       "      <td>-0.288419</td>\n",
       "      <td>-0.358087</td>\n",
       "      <td>0.029297</td>\n",
       "      <td>0.089385</td>\n",
       "      <td>-0.264223</td>\n",
       "      <td>0.236250</td>\n",
       "    </tr>\n",
       "    <tr>\n",
       "      <th>3</th>\n",
       "      <td>-0.487034</td>\n",
       "      <td>-0.044763</td>\n",
       "      <td>-0.106892</td>\n",
       "      <td>-0.337536</td>\n",
       "      <td>-0.06006</td>\n",
       "      <td>-0.204000</td>\n",
       "      <td>0.170678</td>\n",
       "      <td>-0.149217</td>\n",
       "      <td>0.245521</td>\n",
       "      <td>-0.288419</td>\n",
       "      <td>-0.358087</td>\n",
       "      <td>0.029297</td>\n",
       "      <td>0.095155</td>\n",
       "      <td>-0.198274</td>\n",
       "      <td>0.298472</td>\n",
       "    </tr>\n",
       "    <tr>\n",
       "      <th>4</th>\n",
       "      <td>-0.483073</td>\n",
       "      <td>-0.044501</td>\n",
       "      <td>0.018108</td>\n",
       "      <td>-0.126796</td>\n",
       "      <td>-0.06006</td>\n",
       "      <td>-0.068198</td>\n",
       "      <td>-0.049113</td>\n",
       "      <td>-0.017302</td>\n",
       "      <td>0.193156</td>\n",
       "      <td>-0.201462</td>\n",
       "      <td>-0.187914</td>\n",
       "      <td>-0.377680</td>\n",
       "      <td>0.091850</td>\n",
       "      <td>-0.002357</td>\n",
       "      <td>0.002916</td>\n",
       "    </tr>\n",
       "  </tbody>\n",
       "</table>\n",
       "</div>"
      ],
      "text/plain": [
       "         ID      crim        zn     indus     chas       nox        rm  \\\n",
       "0 -0.494954 -0.045616  0.073108 -0.332722 -0.06006 -0.039391  0.059911   \n",
       "1 -0.492974 -0.045330 -0.106892 -0.156425 -0.06006 -0.181367  0.030089   \n",
       "2 -0.489014 -0.045261 -0.106892 -0.337536 -0.06006 -0.204000  0.141824   \n",
       "3 -0.487034 -0.044763 -0.106892 -0.337536 -0.06006 -0.204000  0.170678   \n",
       "4 -0.483073 -0.044501  0.018108 -0.126796 -0.06006 -0.068198 -0.049113   \n",
       "\n",
       "        age       dis       rad       tax   ptratio     black     lstat  \\\n",
       "0 -0.032196  0.039670 -0.375375 -0.216595 -0.366052  0.095155 -0.207931   \n",
       "1  0.113549  0.131219 -0.331897 -0.319846 -0.075354  0.095155 -0.093141   \n",
       "2 -0.238579  0.245521 -0.288419 -0.358087  0.029297  0.089385 -0.264223   \n",
       "3 -0.149217  0.245521 -0.288419 -0.358087  0.029297  0.095155 -0.198274   \n",
       "4 -0.017302  0.193156 -0.201462 -0.187914 -0.377680  0.091850 -0.002357   \n",
       "\n",
       "       medv  \n",
       "0  0.027361  \n",
       "1 -0.025973  \n",
       "2  0.236250  \n",
       "3  0.298472  \n",
       "4  0.002916  "
      ]
     },
     "execution_count": 4,
     "metadata": {},
     "output_type": "execute_result"
    }
   ],
   "source": [
    "df = df.apply(normal, axis=0)\n",
    "df[:5]"
   ]
  },
  {
   "cell_type": "code",
   "execution_count": 5,
   "metadata": {},
   "outputs": [
    {
     "data": {
      "text/html": [
       "<div>\n",
       "<style scoped>\n",
       "    .dataframe tbody tr th:only-of-type {\n",
       "        vertical-align: middle;\n",
       "    }\n",
       "\n",
       "    .dataframe tbody tr th {\n",
       "        vertical-align: top;\n",
       "    }\n",
       "\n",
       "    .dataframe thead th {\n",
       "        text-align: right;\n",
       "    }\n",
       "</style>\n",
       "<table border=\"1\" class=\"dataframe\">\n",
       "  <thead>\n",
       "    <tr style=\"text-align: right;\">\n",
       "      <th></th>\n",
       "      <th>X0</th>\n",
       "      <th>crim</th>\n",
       "      <th>zn</th>\n",
       "      <th>indus</th>\n",
       "      <th>chas</th>\n",
       "      <th>nox</th>\n",
       "      <th>rm</th>\n",
       "      <th>age</th>\n",
       "      <th>dis</th>\n",
       "      <th>rad</th>\n",
       "      <th>tax</th>\n",
       "      <th>ptratio</th>\n",
       "      <th>black</th>\n",
       "      <th>lstat</th>\n",
       "    </tr>\n",
       "  </thead>\n",
       "  <tbody>\n",
       "    <tr>\n",
       "      <th>0</th>\n",
       "      <td>1</td>\n",
       "      <td>-0.045616</td>\n",
       "      <td>0.073108</td>\n",
       "      <td>-0.332722</td>\n",
       "      <td>-0.06006</td>\n",
       "      <td>-0.039391</td>\n",
       "      <td>0.059911</td>\n",
       "      <td>-0.032196</td>\n",
       "      <td>0.039670</td>\n",
       "      <td>-0.375375</td>\n",
       "      <td>-0.216595</td>\n",
       "      <td>-0.366052</td>\n",
       "      <td>0.095155</td>\n",
       "      <td>-0.207931</td>\n",
       "    </tr>\n",
       "    <tr>\n",
       "      <th>1</th>\n",
       "      <td>1</td>\n",
       "      <td>-0.045330</td>\n",
       "      <td>-0.106892</td>\n",
       "      <td>-0.156425</td>\n",
       "      <td>-0.06006</td>\n",
       "      <td>-0.181367</td>\n",
       "      <td>0.030089</td>\n",
       "      <td>0.113549</td>\n",
       "      <td>0.131219</td>\n",
       "      <td>-0.331897</td>\n",
       "      <td>-0.319846</td>\n",
       "      <td>-0.075354</td>\n",
       "      <td>0.095155</td>\n",
       "      <td>-0.093141</td>\n",
       "    </tr>\n",
       "    <tr>\n",
       "      <th>2</th>\n",
       "      <td>1</td>\n",
       "      <td>-0.045261</td>\n",
       "      <td>-0.106892</td>\n",
       "      <td>-0.337536</td>\n",
       "      <td>-0.06006</td>\n",
       "      <td>-0.204000</td>\n",
       "      <td>0.141824</td>\n",
       "      <td>-0.238579</td>\n",
       "      <td>0.245521</td>\n",
       "      <td>-0.288419</td>\n",
       "      <td>-0.358087</td>\n",
       "      <td>0.029297</td>\n",
       "      <td>0.089385</td>\n",
       "      <td>-0.264223</td>\n",
       "    </tr>\n",
       "    <tr>\n",
       "      <th>3</th>\n",
       "      <td>1</td>\n",
       "      <td>-0.044763</td>\n",
       "      <td>-0.106892</td>\n",
       "      <td>-0.337536</td>\n",
       "      <td>-0.06006</td>\n",
       "      <td>-0.204000</td>\n",
       "      <td>0.170678</td>\n",
       "      <td>-0.149217</td>\n",
       "      <td>0.245521</td>\n",
       "      <td>-0.288419</td>\n",
       "      <td>-0.358087</td>\n",
       "      <td>0.029297</td>\n",
       "      <td>0.095155</td>\n",
       "      <td>-0.198274</td>\n",
       "    </tr>\n",
       "    <tr>\n",
       "      <th>4</th>\n",
       "      <td>1</td>\n",
       "      <td>-0.044501</td>\n",
       "      <td>0.018108</td>\n",
       "      <td>-0.126796</td>\n",
       "      <td>-0.06006</td>\n",
       "      <td>-0.068198</td>\n",
       "      <td>-0.049113</td>\n",
       "      <td>-0.017302</td>\n",
       "      <td>0.193156</td>\n",
       "      <td>-0.201462</td>\n",
       "      <td>-0.187914</td>\n",
       "      <td>-0.377680</td>\n",
       "      <td>0.091850</td>\n",
       "      <td>-0.002357</td>\n",
       "    </tr>\n",
       "  </tbody>\n",
       "</table>\n",
       "</div>"
      ],
      "text/plain": [
       "   X0      crim        zn     indus     chas       nox        rm       age  \\\n",
       "0   1 -0.045616  0.073108 -0.332722 -0.06006 -0.039391  0.059911 -0.032196   \n",
       "1   1 -0.045330 -0.106892 -0.156425 -0.06006 -0.181367  0.030089  0.113549   \n",
       "2   1 -0.045261 -0.106892 -0.337536 -0.06006 -0.204000  0.141824 -0.238579   \n",
       "3   1 -0.044763 -0.106892 -0.337536 -0.06006 -0.204000  0.170678 -0.149217   \n",
       "4   1 -0.044501  0.018108 -0.126796 -0.06006 -0.068198 -0.049113 -0.017302   \n",
       "\n",
       "        dis       rad       tax   ptratio     black     lstat  \n",
       "0  0.039670 -0.375375 -0.216595 -0.366052  0.095155 -0.207931  \n",
       "1  0.131219 -0.331897 -0.319846 -0.075354  0.095155 -0.093141  \n",
       "2  0.245521 -0.288419 -0.358087  0.029297  0.089385 -0.264223  \n",
       "3  0.245521 -0.288419 -0.358087  0.029297  0.095155 -0.198274  \n",
       "4  0.193156 -0.201462 -0.187914 -0.377680  0.091850 -0.002357  "
      ]
     },
     "execution_count": 5,
     "metadata": {},
     "output_type": "execute_result"
    }
   ],
   "source": [
    "Xd = df.drop(['ID', 'medv'], axis=1)\n",
    "Xd.insert(0, 'X0', 1) #add bias\n",
    "Xd[:5]"
   ]
  },
  {
   "cell_type": "code",
   "execution_count": 6,
   "metadata": {},
   "outputs": [
    {
     "data": {
      "text/plain": [
       "array([[ 0.02736069],\n",
       "       [-0.02597264],\n",
       "       [ 0.23624958],\n",
       "       [ 0.29847181],\n",
       "       [ 0.00291625]])"
      ]
     },
     "execution_count": 6,
     "metadata": {},
     "output_type": "execute_result"
    }
   ],
   "source": [
    "y = df['medv'].values.reshape(-1,1)\n",
    "y[:5]"
   ]
  },
  {
   "cell_type": "code",
   "execution_count": 7,
   "metadata": {},
   "outputs": [],
   "source": [
    "X_train = Xd.values"
   ]
  },
  {
   "cell_type": "code",
   "execution_count": 8,
   "metadata": {},
   "outputs": [
    {
     "name": "stdout",
     "output_type": "stream",
     "text": [
      "333 14 (14, 1)\n"
     ]
    }
   ],
   "source": [
    "m,n = X_train.shape\n",
    "theta = np.ones((n,1))\n",
    "print(m,n, theta.shape)"
   ]
  },
  {
   "cell_type": "markdown",
   "metadata": {},
   "source": [
    "### 1. Huấn luyện theo SGD"
   ]
  },
  {
   "cell_type": "code",
   "execution_count": 9,
   "metadata": {},
   "outputs": [],
   "source": [
    "def stochastic_gradient_descent():\n",
    "    epoches = 50\n",
    "    learning_rate = 0.01\n",
    "    \n",
    "    #init parameter\n",
    "    thetas = np.random.randn(n,1)\n",
    "    \n",
    "    thetas_path = []\n",
    "    losses = []\n",
    "    \n",
    "    for epoch in range(epoches):\n",
    "        for i in range(m):\n",
    "            \n",
    "            #Lay ngau nhien 1 sample\n",
    "            random_index = np.random.randint(m)\n",
    "            x_i = X_train[random_index:random_index+1]\n",
    "            y_i = y[random_index:random_index+1]\n",
    "            \n",
    "            #tinh y_hat\n",
    "            y_hat = np.dot(x_i, thetas)\n",
    "            \n",
    "            #tinh loss_i\n",
    "            loss_i = (y_hat - y_i)**2\n",
    "            \n",
    "            #tinh gradient cho loss\n",
    "            grad_loss_i = 2*(y_hat - y_i)\n",
    "            \n",
    "            #tinh gradient\n",
    "            gradients = np.dot(x_i.T, grad_loss_i)\n",
    "            \n",
    "            #update thetas\n",
    "            thetas = thetas - learning_rate*gradients\n",
    "            \n",
    "            #logging\n",
    "            thetas_path.append(thetas)\n",
    "            losses.append(loss_i[0][0])\n",
    "    \n",
    "    return thetas_path, losses            "
   ]
  },
  {
   "cell_type": "code",
   "execution_count": 10,
   "metadata": {},
   "outputs": [],
   "source": [
    "sgd_thetas, losses = stochastic_gradient_descent()"
   ]
  },
  {
   "cell_type": "code",
   "execution_count": 12,
   "metadata": {},
   "outputs": [
    {
     "data": {
      "image/png": "[encoded data removed]",
      "text/plain": [
       "<Figure size 432x288 with 1 Axes>"
      ]
     },
     "metadata": {
      "needs_background": "light"
     },
     "output_type": "display_data"
    }
   ],
   "source": [
    "#In loss cho 100 sample dau tien\n",
    "x_axis = list(range(100))\n",
    "plt.plot(x_axis, losses[:100], color='r')\n",
    "plt.show()"
   ]
  },
  {
   "cell_type": "markdown",
   "metadata": {},
   "source": [
    "### 2. Huấn luyện theo MBGD"
   ]
  },
  {
   "cell_type": "code",
   "execution_count": 13,
   "metadata": {},
   "outputs": [],
   "source": [
    "def mini_batch_gradient_descent():\n",
    "    epoches = 200\n",
    "    learning_rate = 0.01\n",
    "    minibatch_size = 64\n",
    "    \n",
    "    thetas = np.random.randn(14,1)\n",
    "    thetas_path = [thetas]\n",
    "    losses = []\n",
    "    \n",
    "    for epoch in range(epoches):\n",
    "        shuffled_indices = np.random.permutation(m)\n",
    "        X_train_shuffled = X_train[shuffled_indices]\n",
    "        y_shuffled = y[shuffled_indices]\n",
    "        \n",
    "        for i in range(0, m, minibatch_size):\n",
    "            x_i = X_train_shuffled[i:i+minibatch_size]\n",
    "            y_i = y_shuffled[i:i+minibatch_size]\n",
    "            \n",
    "            y_hat = np.dot(x_i, thetas)\n",
    "            \n",
    "            loss = (y_hat - y_i)**2\n",
    "            \n",
    "            loss_grd = 2*(y_hat - y_i)/minibatch_size\n",
    "            \n",
    "            gradients = np.dot(x_i.T, loss_grd)\n",
    "            \n",
    "            thetas = thetas - learning_rate*gradients\n",
    "            thetas_path.append(thetas)\n",
    "            \n",
    "            loss_mean = np.sum(loss)/minibatch_size\n",
    "            losses.append(loss_mean)\n",
    "            \n",
    "    return thetas_path, losses"
   ]
  },
  {
   "cell_type": "code",
   "execution_count": 14,
   "metadata": {},
   "outputs": [],
   "source": [
    "mgbd_thetas, losses = mini_batch_gradient_descent()"
   ]
  },
  {
   "cell_type": "code",
   "execution_count": 15,
   "metadata": {},
   "outputs": [
    {
     "data": {
      "image/png": "[encoded data removed]",
      "text/plain": [
       "<Figure size 432x288 with 1 Axes>"
      ]
     },
     "metadata": {
      "needs_background": "light"
     },
     "output_type": "display_data"
    }
   ],
   "source": [
    "#in loss cho 100 sample dau\n",
    "x_axis = list(range(100))\n",
    "plt.plot(x_axis, losses[:100], color='r')\n",
    "plt.show()"
   ]
  },
  {
   "cell_type": "markdown",
   "metadata": {},
   "source": [
    "### 3. Huấn luyện theo BGD"
   ]
  },
  {
   "cell_type": "code",
   "execution_count": 16,
   "metadata": {},
   "outputs": [],
   "source": [
    "def bath_gradient_descent():\n",
    "    epoches = 500\n",
    "    learning_rate = 0.01\n",
    "    \n",
    "    #init parameter\n",
    "    thetas = np.random.randn(n,1)\n",
    "    \n",
    "    thetas_path = []\n",
    "    losses = []\n",
    "    \n",
    "    for epoch in range(epoches):\n",
    "        y_hat = np.dot(X_train, thetas)\n",
    "            \n",
    "        loss = (y_hat - y)**2\n",
    "            \n",
    "        loss_grd = 2*(y_hat - y)/m\n",
    "            \n",
    "        gradients = np.dot(X_train.T, loss_grd)\n",
    "            \n",
    "        thetas = thetas - learning_rate*gradients\n",
    "        thetas_path.append(thetas)\n",
    "            \n",
    "        loss_mean = np.sum(loss)/m\n",
    "        losses.append(loss_mean)\n",
    "            \n",
    "    return thetas_path, losses\n",
    "        "
   ]
  },
  {
   "cell_type": "code",
   "execution_count": 17,
   "metadata": {},
   "outputs": [],
   "source": [
    "bgd_thetas, losses = bath_gradient_descent()"
   ]
  },
  {
   "cell_type": "code",
   "execution_count": 19,
   "metadata": {},
   "outputs": [
    {
     "data": {
      "image/png": "[encoded data removed]",
      "text/plain": [
       "<Figure size 432x288 with 1 Axes>"
      ]
     },
     "metadata": {
      "needs_background": "light"
     },
     "output_type": "display_data"
    }
   ],
   "source": [
    "#in loss cho 500 sample dau tien\n",
    "x_axis = list(range(500))\n",
    "plt.plot(x_axis, losses[:500], color='r')\n",
    "plt.show()"
   ]
  },
  {
   "cell_type": "code",
   "execution_count": null,
   "metadata": {},
   "outputs": [],
   "source": []
  }
 ],
 "metadata": {
  "kernelspec": {
   "display_name": "Python 3",
   "language": "python",
   "name": "python3"
  },
  "language_info": {
   "codemirror_mode": {
    "name": "ipython",
    "version": 3
   },
   "file_extension": ".py",
   "mimetype": "text/x-python",
   "name": "python",
   "nbconvert_exporter": "python",
   "pygments_lexer": "ipython3",
   "version": "3.7.3"
  }
 },
 "nbformat": 4,
 "nbformat_minor": 2
}
