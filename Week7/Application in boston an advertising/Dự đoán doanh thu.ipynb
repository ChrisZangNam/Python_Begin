{
 "cells": [
  {
   "cell_type": "markdown",
   "metadata": {},
   "source": [
    "# Bài toán dự đoán doanh thu (advertising)"
   ]
  },
  {
   "cell_type": "code",
   "execution_count": 27,
   "metadata": {},
   "outputs": [],
   "source": [
    "import numpy as np\n",
    "import pandas as pd\n",
    "import matplotlib.pyplot as plt"
   ]
  },
  {
   "cell_type": "code",
   "execution_count": 28,
   "metadata": {},
   "outputs": [
    {
     "data": {
      "text/html": [
       "<div>\n",
       "<style scoped>\n",
       "    .dataframe tbody tr th:only-of-type {\n",
       "        vertical-align: middle;\n",
       "    }\n",
       "\n",
       "    .dataframe tbody tr th {\n",
       "        vertical-align: top;\n",
       "    }\n",
       "\n",
       "    .dataframe thead th {\n",
       "        text-align: right;\n",
       "    }\n",
       "</style>\n",
       "<table border=\"1\" class=\"dataframe\">\n",
       "  <thead>\n",
       "    <tr style=\"text-align: right;\">\n",
       "      <th></th>\n",
       "      <th>TV</th>\n",
       "      <th>Radio</th>\n",
       "      <th>Newspaper</th>\n",
       "      <th>Sales</th>\n",
       "    </tr>\n",
       "  </thead>\n",
       "  <tbody>\n",
       "    <tr>\n",
       "      <th>0</th>\n",
       "      <td>230.1</td>\n",
       "      <td>37.8</td>\n",
       "      <td>69.2</td>\n",
       "      <td>22.1</td>\n",
       "    </tr>\n",
       "    <tr>\n",
       "      <th>1</th>\n",
       "      <td>44.5</td>\n",
       "      <td>39.3</td>\n",
       "      <td>45.1</td>\n",
       "      <td>10.4</td>\n",
       "    </tr>\n",
       "    <tr>\n",
       "      <th>2</th>\n",
       "      <td>17.2</td>\n",
       "      <td>45.9</td>\n",
       "      <td>69.3</td>\n",
       "      <td>12.0</td>\n",
       "    </tr>\n",
       "    <tr>\n",
       "      <th>3</th>\n",
       "      <td>151.5</td>\n",
       "      <td>41.3</td>\n",
       "      <td>58.5</td>\n",
       "      <td>16.5</td>\n",
       "    </tr>\n",
       "    <tr>\n",
       "      <th>4</th>\n",
       "      <td>180.8</td>\n",
       "      <td>10.8</td>\n",
       "      <td>58.4</td>\n",
       "      <td>17.9</td>\n",
       "    </tr>\n",
       "  </tbody>\n",
       "</table>\n",
       "</div>"
      ],
      "text/plain": [
       "      TV  Radio  Newspaper  Sales\n",
       "0  230.1   37.8       69.2   22.1\n",
       "1   44.5   39.3       45.1   10.4\n",
       "2   17.2   45.9       69.3   12.0\n",
       "3  151.5   41.3       58.5   16.5\n",
       "4  180.8   10.8       58.4   17.9"
      ]
     },
     "execution_count": 28,
     "metadata": {},
     "output_type": "execute_result"
    }
   ],
   "source": [
    "df = pd.read_csv('data/advertising.csv')\n",
    "df[:5]"
   ]
  },
  {
   "cell_type": "code",
   "execution_count": 29,
   "metadata": {},
   "outputs": [
    {
     "data": {
      "text/plain": [
       "array([[230.1,  37.8,  69.2,  22.1],\n",
       "       [ 44.5,  39.3,  45.1,  10.4],\n",
       "       [ 17.2,  45.9,  69.3,  12. ],\n",
       "       [151.5,  41.3,  58.5,  16.5],\n",
       "       [180.8,  10.8,  58.4,  17.9]])"
      ]
     },
     "execution_count": 29,
     "metadata": {},
     "output_type": "execute_result"
    }
   ],
   "source": [
    "data = df.values\n",
    "data[:5]"
   ]
  },
  {
   "cell_type": "code",
   "execution_count": 30,
   "metadata": {},
   "outputs": [],
   "source": [
    "X = data[:,:3]\n",
    "y = data[:, 3:].reshape(-1,1)"
   ]
  },
  {
   "cell_type": "code",
   "execution_count": 31,
   "metadata": {},
   "outputs": [
    {
     "data": {
      "text/plain": [
       "array([[ 0.55042679, -0.09835864,  0.00757928],\n",
       "       [-0.07575405, -0.09329791, -0.07372976],\n",
       "       [-0.16785931, -0.0710307 ,  0.00791667],\n",
       "       [ 0.2852446 , -0.08655027, -0.02852058],\n",
       "       [ 0.3840975 , -0.18945175, -0.02885796]])"
      ]
     },
     "execution_count": 31,
     "metadata": {},
     "output_type": "execute_result"
    }
   ],
   "source": [
    "m = data.shape[0]\n",
    "maxi = np.max(X)\n",
    "mini = np.min(X)\n",
    "avg = np.mean(X)\n",
    "\n",
    "X = (X-avg)/(maxi - mini)\n",
    "X[:5]"
   ]
  },
  {
   "cell_type": "code",
   "execution_count": 32,
   "metadata": {},
   "outputs": [
    {
     "name": "stdout",
     "output_type": "stream",
     "text": [
      "[[ 1.          0.55042679 -0.09835864  0.00757928]\n",
      " [ 1.         -0.07575405 -0.09329791 -0.07372976]\n",
      " [ 1.         -0.16785931 -0.0710307   0.00791667]\n",
      " [ 1.          0.2852446  -0.08655027 -0.02852058]\n",
      " [ 1.          0.3840975  -0.18945175 -0.02885796]]\n",
      "200 4\n"
     ]
    }
   ],
   "source": [
    "X_train = np.c_[np.ones((m,1)), X]\n",
    "print(X_train[:5])\n",
    "\n",
    "m,n = X_train.shape\n",
    "print(m,n)"
   ]
  },
  {
   "cell_type": "markdown",
   "metadata": {},
   "source": [
    "### 1. Huấn luyện theo SGD"
   ]
  },
  {
   "cell_type": "code",
   "execution_count": 33,
   "metadata": {},
   "outputs": [],
   "source": [
    "def stochastic_gradient_descent():\n",
    "    epoches = 50\n",
    "    learning_rate = 0.01\n",
    "    \n",
    "    #init parameter\n",
    "    thetas = np.random.randn(n,1)\n",
    "    \n",
    "    thetas_path = []\n",
    "    losses = []\n",
    "    \n",
    "    for epoch in range(epoches):\n",
    "        for i in range(m):\n",
    "            \n",
    "            #Lay ngau nhien 1 sample\n",
    "            random_index = np.random.randint(m)\n",
    "            x_i = X_train[random_index:random_index+1]\n",
    "            y_i = y[random_index:random_index+1]\n",
    "            \n",
    "            #tinh y_hat\n",
    "            y_hat = np.dot(x_i, thetas)\n",
    "            \n",
    "            #tinh loss_i\n",
    "            loss_i = (y_hat - y_i)**2\n",
    "            \n",
    "            #tinh gradient cho loss\n",
    "            grad_loss_i = 2*(y_hat - y_i)\n",
    "            \n",
    "            #tinh gradient\n",
    "            gradients = np.dot(x_i.T, grad_loss_i)\n",
    "            \n",
    "            #update thetas\n",
    "            thetas = thetas - learning_rate*gradients\n",
    "            \n",
    "            #logging\n",
    "            thetas_path.append(thetas)\n",
    "            losses.append(loss_i[0][0])\n",
    "    \n",
    "    return thetas_path, losses            "
   ]
  },
  {
   "cell_type": "code",
   "execution_count": 34,
   "metadata": {},
   "outputs": [],
   "source": [
    "sgd_thetas, losses = stochastic_gradient_descent()"
   ]
  },
  {
   "cell_type": "code",
   "execution_count": 35,
   "metadata": {},
   "outputs": [
    {
     "data": {
      "image/png": "[encoded data removed]",
      "text/plain": [
       "<Figure size 432x288 with 1 Axes>"
      ]
     },
     "metadata": {
      "needs_background": "light"
     },
     "output_type": "display_data"
    }
   ],
   "source": [
    "#In loss cho 100 sample dau tien\n",
    "x_axis = list(range(100))\n",
    "plt.plot(x_axis, losses[:100], color='r')\n",
    "plt.show()"
   ]
  },
  {
   "cell_type": "markdown",
   "metadata": {},
   "source": [
    "### 2. Huấn luyện theo MBGD"
   ]
  },
  {
   "cell_type": "code",
   "execution_count": 36,
   "metadata": {},
   "outputs": [],
   "source": [
    "def mini_batch_gradient_descent():\n",
    "    epoches = 200\n",
    "    learning_rate = 0.01\n",
    "    minibatch_size = 64\n",
    "    \n",
    "    thetas = np.random.randn(n,1)\n",
    "    thetas_path = [thetas]\n",
    "    losses = []\n",
    "    \n",
    "    for epoch in range(epoches):\n",
    "        shuffled_indices = np.random.permutation(m)\n",
    "        X_train_shuffled = X_train[shuffled_indices]\n",
    "        y_shuffled = y[shuffled_indices]\n",
    "        \n",
    "        for i in range(0, m, minibatch_size):\n",
    "            x_i = X_train_shuffled[i:i+minibatch_size]\n",
    "            y_i = y_shuffled[i:i+minibatch_size]\n",
    "            \n",
    "            y_hat = np.dot(x_i, thetas)\n",
    "            \n",
    "            loss = (y_hat - y_i)**2\n",
    "            \n",
    "            loss_grd = 2*(y_hat - y_i)/minibatch_size\n",
    "            \n",
    "            gradients = np.dot(x_i.T, loss_grd)\n",
    "            \n",
    "            thetas = thetas - learning_rate*gradients\n",
    "            thetas_path.append(thetas)\n",
    "            \n",
    "            loss_mean = np.sum(loss)/minibatch_size\n",
    "            losses.append(loss_mean)\n",
    "            \n",
    "    return thetas_path, losses"
   ]
  },
  {
   "cell_type": "code",
   "execution_count": 37,
   "metadata": {},
   "outputs": [],
   "source": [
    "mgbd_thetas, losses = mini_batch_gradient_descent()"
   ]
  },
  {
   "cell_type": "code",
   "execution_count": 38,
   "metadata": {},
   "outputs": [
    {
     "data": {
      "image/png": "[encoded data removed]",
      "text/plain": [
       "<Figure size 432x288 with 1 Axes>"
      ]
     },
     "metadata": {
      "needs_background": "light"
     },
     "output_type": "display_data"
    }
   ],
   "source": [
    "#in loss cho 100 sample dau\n",
    "x_axis = list(range(100))\n",
    "plt.plot(x_axis, losses[:100], color='r')\n",
    "plt.show()"
   ]
  },
  {
   "cell_type": "markdown",
   "metadata": {},
   "source": [
    "### 3. Huấn luyện theo BGD"
   ]
  },
  {
   "cell_type": "code",
   "execution_count": 39,
   "metadata": {},
   "outputs": [],
   "source": [
    "def bath_gradient_descent():\n",
    "    epoches = 500\n",
    "    learning_rate = 0.01\n",
    "    \n",
    "    #init parameter\n",
    "    thetas = np.random.randn(n,1)\n",
    "    \n",
    "    thetas_path = []\n",
    "    losses = []\n",
    "    \n",
    "    for epoch in range(epoches):\n",
    "        y_hat = np.dot(X_train, thetas)\n",
    "            \n",
    "        loss = (y_hat - y)**2\n",
    "            \n",
    "        loss_grd = 2*(y_hat - y)/m\n",
    "            \n",
    "        gradients = np.dot(X_train.T, loss_grd)\n",
    "            \n",
    "        thetas = thetas - learning_rate*gradients\n",
    "        thetas_path.append(thetas)\n",
    "            \n",
    "        loss_mean = np.sum(loss)/m\n",
    "        losses.append(loss_mean)\n",
    "            \n",
    "    return thetas_path, losses\n",
    "        "
   ]
  },
  {
   "cell_type": "code",
   "execution_count": 40,
   "metadata": {},
   "outputs": [],
   "source": [
    "bgd_thetas, losses = bath_gradient_descent()"
   ]
  },
  {
   "cell_type": "code",
   "execution_count": 41,
   "metadata": {},
   "outputs": [
    {
     "data": {
      "image/png": "[encoded data removed]",
      "text/plain": [
       "<Figure size 432x288 with 1 Axes>"
      ]
     },
     "metadata": {
      "needs_background": "light"
     },
     "output_type": "display_data"
    }
   ],
   "source": [
    "#in loss cho 500 sample dau tien\n",
    "x_axis = list(range(500))\n",
    "plt.plot(x_axis, losses[:500], color='r')\n",
    "plt.show()"
   ]
  },
  {
   "cell_type": "code",
   "execution_count": null,
   "metadata": {},
   "outputs": [],
   "source": []
  }
 ],
 "metadata": {
  "kernelspec": {
   "display_name": "Python 3",
   "language": "python",
   "name": "python3"
  },
  "language_info": {
   "codemirror_mode": {
    "name": "ipython",
    "version": 3
   },
   "file_extension": ".py",
   "mimetype": "text/x-python",
   "name": "python",
   "nbconvert_exporter": "python",
   "pygments_lexer": "ipython3",
   "version": "3.7.3"
  }
 },
 "nbformat": 4,
 "nbformat_minor": 2
}
